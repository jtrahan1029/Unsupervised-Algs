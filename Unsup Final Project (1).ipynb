{
 "cells": [
  {
   "cell_type": "markdown",
   "id": "raised-double",
   "metadata": {},
   "source": [
    "# Unsupervised Algorithms Final Project\n",
    "## Predicting Fake Tweets with FakeNewsNet Data\n",
    "\n",
    "The dataset has 21724 distinct tweet titles. The data consists of tweet titles, URLs, tweet source_domains, number of retweets, and the identifier as real/unreal (0/1).\n",
    "<br>\n",
    "<br>\n",
    "The goal is to used the text from the tweet titles and the domain name to predict the validitiy of the tweet content. Similar to the week 4 project, I will be using NLP tools and bag of words processes to model the text. I will then vectorize the text and make predictions based upon content words and meaning.\n",
    "<br>\n",
    "<br>\n",
    "There are only two categories to be assigned: 1 and 0. The integer 1 will denote a valide tweet and 0 will denote fake tweets. "
   ]
  },
  {
   "cell_type": "code",
   "execution_count": 85,
   "id": "sitting-myrtle",
   "metadata": {},
   "outputs": [],
   "source": [
    "import numpy as np\n",
    "import pandas as pd\n",
    "import nltk\n",
    "import re\n",
    "import matplotlib.pyplot as plt\n",
    "import string\n",
    "import seaborn as sns\n",
    "from sklearn.decomposition import NMF\n",
    "from gensim.corpora.dictionary import Dictionary\n",
    "from gensim.models.nmf import Nmf\n",
    "from nltk.corpus import stopwords\n",
    "from nltk.tokenize import word_tokenize\n",
    "from sklearn.feature_extraction.text import TfidfVectorizer\n",
    "from sklearn.decomposition import TruncatedSVD\n",
    "from gensim.utils import simple_preprocess\n",
    "from sklearn.metrics import accuracy_score, confusion_matrix\n",
    "from sklearn.model_selection import cross_val_score\n",
    "from sklearn.model_selection import RepeatedStratifiedKFold\n",
    "from sklearn.model_selection import RepeatedKFold\n",
    "from sklearn.ensemble import RandomForestClassifier\n",
    "from sklearn.model_selection import RandomizedSearchCV\n",
    "from sklearn.model_selection import train_test_split\n",
    "from sklearn.cluster import AgglomerativeClustering, KMeans"
   ]
  },
  {
   "cell_type": "markdown",
   "id": "described-details",
   "metadata": {},
   "source": [
    "## Import and Inspect Data\n",
    "### I will perform EDA before splitting the dataset into train/test portions\n",
    "\n",
    "I will explore:\n",
    "- Dimensions of the data\n",
    "- Na's and unique values\n",
    "- Check for duplicate data"
   ]
  },
  {
   "cell_type": "code",
   "execution_count": 86,
   "id": "velvet-mozambique",
   "metadata": {},
   "outputs": [],
   "source": [
    "df = pd.read_csv('FakeNewsNet.csv')\n"
   ]
  },
  {
   "cell_type": "code",
   "execution_count": 87,
   "id": "living-roman",
   "metadata": {},
   "outputs": [
    {
     "name": "stdout",
     "output_type": "stream",
     "text": [
      "+ Shape is:  (23196, 5)\n",
      "+ Number of na values:  title              0\n",
      "news_url         330\n",
      "source_domain    330\n",
      "tweet_num          0\n",
      "real               0\n",
      "dtype: int64\n",
      "+ Data types:  title            object\n",
      "news_url         object\n",
      "source_domain    object\n",
      "tweet_num         int64\n",
      "real              int64\n",
      "dtype: object\n",
      "+ Unique value counts:  title            21724\n",
      "news_url         21658\n",
      "source_domain     2441\n",
      "tweet_num          825\n",
      "real                 2\n",
      "dtype: int64\n",
      "+ Number of unique categories:  [1 0]\n",
      "+ Text duplicates in the data:  1472\n"
     ]
    }
   ],
   "source": [
    "print(\"+ Shape is: \", df.shape)\n",
    " \n",
    "print(\"+ Number of na values: \", df.isna().sum())\n",
    " \n",
    "print(\"+ Data types: \", df.dtypes)\n",
    " \n",
    "print(\"+ Unique value counts: \", df.nunique())\n",
    " \n",
    "print(\"+ Number of unique categories: \", df.real.unique())\n",
    " \n",
    "print(\"+ Text duplicates in the data: \" ,df.duplicated(subset = ['title']).sum())"
   ]
  },
  {
   "cell_type": "markdown",
   "id": "tracked-action",
   "metadata": {},
   "source": [
    "### Post EDA\n",
    "<br>\n",
    "The data contained 1472 duplicate titles. I will remove duplicate titles before analysis. The domain will be added to the title text so that it can be processed and vectorized along with the title data and analyzed as a word.\n",
    "<br>\n",
    "<br>\n",
    "The data will be split into 75% training and 25% testing."
   ]
  },
  {
   "cell_type": "code",
   "execution_count": 88,
   "id": "adverse-replica",
   "metadata": {},
   "outputs": [],
   "source": [
    "df = df.drop_duplicates(subset = 'title')\n",
    "df['title'] = df['title'] + ' ' + df['source_domain']"
   ]
  },
  {
   "cell_type": "code",
   "execution_count": 89,
   "id": "patent-pitch",
   "metadata": {},
   "outputs": [
    {
     "data": {
      "text/plain": [
       "\"Kandi Burruss Explodes Over Rape Accusation on 'Real Housewives of Atlanta' Reunion (Video) toofab.com\""
      ]
     },
     "execution_count": 89,
     "metadata": {},
     "output_type": "execute_result"
    }
   ],
   "source": [
    "df.title[0]"
   ]
  },
  {
   "cell_type": "code",
   "execution_count": 90,
   "id": "pharmaceutical-change",
   "metadata": {},
   "outputs": [],
   "source": [
    "df_X = df[['title']]\n",
    "df_y = df[['real']]\n",
    "\n",
    "X_train, X_test, y_train, y_test = train_test_split(df_X, df_y, test_size = 0.25, random_state = 42)"
   ]
  },
  {
   "cell_type": "code",
   "execution_count": 91,
   "id": "disciplinary-coordinator",
   "metadata": {},
   "outputs": [
    {
     "name": "stderr",
     "output_type": "stream",
     "text": [
      "c:\\users\\trahajo\\appdata\\local\\programs\\python\\python38\\lib\\site-packages\\pandas\\core\\generic.py:5491: SettingWithCopyWarning: \n",
      "A value is trying to be set on a copy of a slice from a DataFrame.\n",
      "Try using .loc[row_indexer,col_indexer] = value instead\n",
      "\n",
      "See the caveats in the documentation: https://pandas.pydata.org/pandas-docs/stable/user_guide/indexing.html#returning-a-view-versus-a-copy\n",
      "  self[name] = value\n"
     ]
    }
   ],
   "source": [
    "X_train.title = X_train.title.astype(str)\n",
    "X_test.title = X_test.title.astype(str)"
   ]
  },
  {
   "cell_type": "markdown",
   "id": "imperial-visitor",
   "metadata": {},
   "source": [
    "## Word Count Visualization and LNP Processes\n",
    "\n",
    "Establish lemmatizer and stopwords for removal using NLTK. Define a word counting fuctions and create histogram of word counts. This step will assist with hyperparameter tuning in future steps"
   ]
  },
  {
   "cell_type": "code",
   "execution_count": 92,
   "id": "former-inventory",
   "metadata": {},
   "outputs": [],
   "source": [
    "stopwords = nltk.corpus.stopwords.words('english')\n",
    "wnl = nltk.WordNetLemmatizer()"
   ]
  },
  {
   "cell_type": "code",
   "execution_count": 93,
   "id": "fitted-brazil",
   "metadata": {},
   "outputs": [],
   "source": [
    "def count_words(text):\n",
    "    return len(str(text).split(' '))\n",
    "   \n",
    "df['w_count'] = df['title'].apply(count_words)"
   ]
  },
  {
   "cell_type": "code",
   "execution_count": 94,
   "id": "accredited-guitar",
   "metadata": {},
   "outputs": [
    {
     "data": {
      "text/plain": [
       "Text(0.5, 1.0, 'Word Count Distribution')"
      ]
     },
     "execution_count": 94,
     "metadata": {},
     "output_type": "execute_result"
    },
    {
     "data": {
      "image/png": "[encoded data removed]",
      "text/plain": [
       "<Figure size 720x360 with 1 Axes>"
      ]
     },
     "metadata": {
      "needs_background": "light"
     },
     "output_type": "display_data"
    }
   ],
   "source": [
    "fig = plt.figure(figsize = (10,5))\n",
    " \n",
    "plt.hist(df['w_count'], bins=30, color = \"blue\")\n",
    " \n",
    "plt.title('Word Count Distribution')"
   ]
  },
  {
   "cell_type": "markdown",
   "id": "sharing-genius",
   "metadata": {},
   "source": [
    "## Clean documents and find the most frequent words in the documents\n",
    "\n",
    "Text cleaning removes any punctuation and stopwords (words that will not be significant during analysis). I will create a list of words per text that will be most meaningful. Lemmmatization will provide a list of root words and will remove features such as tense and plurality."
   ]
  },
  {
   "cell_type": "code",
   "execution_count": 95,
   "id": "junior-emission",
   "metadata": {},
   "outputs": [
    {
     "name": "stderr",
     "output_type": "stream",
     "text": [
      "<ipython-input-95-bece70aaf5f4>:7: SettingWithCopyWarning: \n",
      "A value is trying to be set on a copy of a slice from a DataFrame.\n",
      "Try using .loc[row_indexer,col_indexer] = value instead\n",
      "\n",
      "See the caveats in the documentation: https://pandas.pydata.org/pandas-docs/stable/user_guide/indexing.html#returning-a-view-versus-a-copy\n",
      "  X_train['proc_words'] = X_train.title.apply(cleantext)\n",
      "<ipython-input-95-bece70aaf5f4>:8: SettingWithCopyWarning: \n",
      "A value is trying to be set on a copy of a slice from a DataFrame.\n",
      "Try using .loc[row_indexer,col_indexer] = value instead\n",
      "\n",
      "See the caveats in the documentation: https://pandas.pydata.org/pandas-docs/stable/user_guide/indexing.html#returning-a-view-versus-a-copy\n",
      "  X_train['proc_words1'] = X_train.title.apply(simple_preprocess)\n",
      "<ipython-input-95-bece70aaf5f4>:10: SettingWithCopyWarning: \n",
      "A value is trying to be set on a copy of a slice from a DataFrame.\n",
      "Try using .loc[row_indexer,col_indexer] = value instead\n",
      "\n",
      "See the caveats in the documentation: https://pandas.pydata.org/pandas-docs/stable/user_guide/indexing.html#returning-a-view-versus-a-copy\n",
      "  X_test['proc_words'] = X_test.title.apply(cleantext)\n",
      "<ipython-input-95-bece70aaf5f4>:11: SettingWithCopyWarning: \n",
      "A value is trying to be set on a copy of a slice from a DataFrame.\n",
      "Try using .loc[row_indexer,col_indexer] = value instead\n",
      "\n",
      "See the caveats in the documentation: https://pandas.pydata.org/pandas-docs/stable/user_guide/indexing.html#returning-a-view-versus-a-copy\n",
      "  X_test['proc_words1'] = X_test.title.apply(simple_preprocess)\n"
     ]
    }
   ],
   "source": [
    "def cleantext(text):\n",
    "    text = \"\".join([word for word in text if word not in string.punctuation])\n",
    "    words = re.split('\\W+', text)\n",
    "    text = [wnl.lemmatize(word) for word in words if word not in stopwords]\n",
    "    return text\n",
    "   \n",
    "X_train['proc_words'] = X_train.title.apply(cleantext)\n",
    "X_train['proc_words1'] = X_train.title.apply(simple_preprocess)\n",
    "\n",
    "X_test['proc_words'] = X_test.title.apply(cleantext)\n",
    "X_test['proc_words1'] = X_test.title.apply(simple_preprocess)\n",
    "\n",
    "df['proc_words'] = df.title.astype(str).apply(cleantext)\n"
   ]
  },
  {
   "cell_type": "code",
   "execution_count": 96,
   "id": "committed-flexibility",
   "metadata": {},
   "outputs": [
    {
     "data": {
      "text/html": [
       "<div>\n",
       "<style scoped>\n",
       "    .dataframe tbody tr th:only-of-type {\n",
       "        vertical-align: middle;\n",
       "    }\n",
       "\n",
       "    .dataframe tbody tr th {\n",
       "        vertical-align: top;\n",
       "    }\n",
       "\n",
       "    .dataframe thead th {\n",
       "        text-align: right;\n",
       "    }\n",
       "</style>\n",
       "<table border=\"1\" class=\"dataframe\">\n",
       "  <thead>\n",
       "    <tr style=\"text-align: right;\">\n",
       "      <th></th>\n",
       "      <th>title</th>\n",
       "      <th>proc_words</th>\n",
       "      <th>proc_words1</th>\n",
       "    </tr>\n",
       "  </thead>\n",
       "  <tbody>\n",
       "    <tr>\n",
       "      <th>5435</th>\n",
       "      <td>Milo Ventimiglia on Jack's 'This Is Us' death,...</td>\n",
       "      <td>[Milo, Ventimiglia, Jacks, This, Is, Us, death...</td>\n",
       "      <td>[milo, ventimiglia, on, jack, this, is, us, de...</td>\n",
       "    </tr>\n",
       "    <tr>\n",
       "      <th>9595</th>\n",
       "      <td>Luann D'Agostino and Tom D'Agostino Shut Down ...</td>\n",
       "      <td>[Luann, DAgostino, Tom, DAgostino, Shut, Down,...</td>\n",
       "      <td>[luann, agostino, and, tom, agostino, shut, do...</td>\n",
       "    </tr>\n",
       "    <tr>\n",
       "      <th>16291</th>\n",
       "      <td>Keeping Up With the Kardashians announces mara...</td>\n",
       "      <td>[Keeping, Up, With, Kardashians, announces, ma...</td>\n",
       "      <td>[keeping, up, with, the, kardashians, announce...</td>\n",
       "    </tr>\n",
       "    <tr>\n",
       "      <th>943</th>\n",
       "      <td>Jennifer Garner &amp; Josh Duhamel Dating: Why Ben...</td>\n",
       "      <td>[Jennifer, Garner, Josh, Duhamel, Dating, Why,...</td>\n",
       "      <td>[jennifer, garner, josh, duhamel, dating, why,...</td>\n",
       "    </tr>\n",
       "    <tr>\n",
       "      <th>8807</th>\n",
       "      <td>Kanye West returns to Twitter, gets sentimenta...</td>\n",
       "      <td>[Kanye, West, return, Twitter, get, sentimenta...</td>\n",
       "      <td>[kanye, west, returns, to, twitter, gets, sent...</td>\n",
       "    </tr>\n",
       "    <tr>\n",
       "      <th>...</th>\n",
       "      <td>...</td>\n",
       "      <td>...</td>\n",
       "      <td>...</td>\n",
       "    </tr>\n",
       "    <tr>\n",
       "      <th>12487</th>\n",
       "      <td>The Second Wave of 2017 Teen Choice Awards Nom...</td>\n",
       "      <td>[The, Second, Wave, 2017, Teen, Choice, Awards...</td>\n",
       "      <td>[the, second, wave, of, teen, choice, awards, ...</td>\n",
       "    </tr>\n",
       "    <tr>\n",
       "      <th>23036</th>\n",
       "      <td>Fans are dragging Selena Gomez for supporting ...</td>\n",
       "      <td>[Fans, dragging, Selena, Gomez, supporting, bu...</td>\n",
       "      <td>[fans, are, dragging, selena, gomez, for, supp...</td>\n",
       "    </tr>\n",
       "    <tr>\n",
       "      <th>5513</th>\n",
       "      <td>Rosie O'Donnell Responds to 'Vengeful Child' C...</td>\n",
       "      <td>[Rosie, ODonnell, Responds, Vengeful, Child, C...</td>\n",
       "      <td>[rosie, donnell, responds, to, vengeful, child...</td>\n",
       "    </tr>\n",
       "    <tr>\n",
       "      <th>868</th>\n",
       "      <td>They Didn't Mean It Like That: Actors Defendin...</td>\n",
       "      <td>[They, Didnt, Mean, It, Like, That, Actors, De...</td>\n",
       "      <td>[they, didn, mean, it, like, that, actors, def...</td>\n",
       "    </tr>\n",
       "    <tr>\n",
       "      <th>16649</th>\n",
       "      <td>Justin Bieber sanctioned by judge www.msn.com</td>\n",
       "      <td>[Justin, Bieber, sanctioned, judge, wwwmsncom]</td>\n",
       "      <td>[justin, bieber, sanctioned, by, judge, www, m...</td>\n",
       "    </tr>\n",
       "  </tbody>\n",
       "</table>\n",
       "<p>16293 rows × 3 columns</p>\n",
       "</div>"
      ],
      "text/plain": [
       "                                                   title  \\\n",
       "5435   Milo Ventimiglia on Jack's 'This Is Us' death,...   \n",
       "9595   Luann D'Agostino and Tom D'Agostino Shut Down ...   \n",
       "16291  Keeping Up With the Kardashians announces mara...   \n",
       "943    Jennifer Garner & Josh Duhamel Dating: Why Ben...   \n",
       "8807   Kanye West returns to Twitter, gets sentimenta...   \n",
       "...                                                  ...   \n",
       "12487  The Second Wave of 2017 Teen Choice Awards Nom...   \n",
       "23036  Fans are dragging Selena Gomez for supporting ...   \n",
       "5513   Rosie O'Donnell Responds to 'Vengeful Child' C...   \n",
       "868    They Didn't Mean It Like That: Actors Defendin...   \n",
       "16649      Justin Bieber sanctioned by judge www.msn.com   \n",
       "\n",
       "                                              proc_words  \\\n",
       "5435   [Milo, Ventimiglia, Jacks, This, Is, Us, death...   \n",
       "9595   [Luann, DAgostino, Tom, DAgostino, Shut, Down,...   \n",
       "16291  [Keeping, Up, With, Kardashians, announces, ma...   \n",
       "943    [Jennifer, Garner, Josh, Duhamel, Dating, Why,...   \n",
       "8807   [Kanye, West, return, Twitter, get, sentimenta...   \n",
       "...                                                  ...   \n",
       "12487  [The, Second, Wave, 2017, Teen, Choice, Awards...   \n",
       "23036  [Fans, dragging, Selena, Gomez, supporting, bu...   \n",
       "5513   [Rosie, ODonnell, Responds, Vengeful, Child, C...   \n",
       "868    [They, Didnt, Mean, It, Like, That, Actors, De...   \n",
       "16649     [Justin, Bieber, sanctioned, judge, wwwmsncom]   \n",
       "\n",
       "                                             proc_words1  \n",
       "5435   [milo, ventimiglia, on, jack, this, is, us, de...  \n",
       "9595   [luann, agostino, and, tom, agostino, shut, do...  \n",
       "16291  [keeping, up, with, the, kardashians, announce...  \n",
       "943    [jennifer, garner, josh, duhamel, dating, why,...  \n",
       "8807   [kanye, west, returns, to, twitter, gets, sent...  \n",
       "...                                                  ...  \n",
       "12487  [the, second, wave, of, teen, choice, awards, ...  \n",
       "23036  [fans, are, dragging, selena, gomez, for, supp...  \n",
       "5513   [rosie, donnell, responds, to, vengeful, child...  \n",
       "868    [they, didn, mean, it, like, that, actors, def...  \n",
       "16649  [justin, bieber, sanctioned, by, judge, www, m...  \n",
       "\n",
       "[16293 rows x 3 columns]"
      ]
     },
     "execution_count": 96,
     "metadata": {},
     "output_type": "execute_result"
    }
   ],
   "source": [
    "X_train"
   ]
  },
  {
   "cell_type": "code",
   "execution_count": 97,
   "id": "grave-calculator",
   "metadata": {},
   "outputs": [],
   "source": [
    "p_w = df.proc_words.to_numpy().flatten()\n",
    " \n",
    "def u_word_count(df):\n",
    "    w_dict = {}\n",
    "    for r in df.proc_words:\n",
    "        for word in r:\n",
    "            if word not in w_dict.keys():\n",
    "                w_dict[word] = 1\n",
    "            w_dict[word] +=1\n",
    "    return w_dict\n",
    " \n",
    "u_word_counts = u_word_count(df)\n",
    "w_df = pd.DataFrame.from_dict(u_word_counts, orient = 'index', columns = ['frequency']).reset_index()\n",
    " \n",
    "tw_df = w_df.sort_values(by = ['frequency'], ascending = False)[0:20]"
   ]
  },
  {
   "cell_type": "code",
   "execution_count": 98,
   "id": "together-blond",
   "metadata": {},
   "outputs": [
    {
     "data": {
      "text/plain": [
       "<AxesSubplot:xlabel='index', ylabel='frequency'>"
      ]
     },
     "execution_count": 98,
     "metadata": {},
     "output_type": "execute_result"
    },
    {
     "data": {
      "image/png": "[encoded data removed]",
      "text/plain": [
       "<Figure size 1440x720 with 1 Axes>"
      ]
     },
     "metadata": {
      "needs_background": "light"
     },
     "output_type": "display_data"
    }
   ],
   "source": [
    "plt.figure(figsize = (20,10))\n",
    "sns.barplot(x = 'index', y = 'frequency', data = tw_df)"
   ]
  },
  {
   "cell_type": "markdown",
   "id": "chief-louis",
   "metadata": {},
   "source": [
    "## Create Bag of Words and Vectorized the documents\n",
    "\n",
    "Use gensim to create a bag of words. The dictionary will assign words to their meaning via unique integer assignment. For each text there will be a \"bag of words\" and their meanings to apply to topical analysis. TFIDF will transform the bag of words into a vector form for use within the algorithms. "
   ]
  },
  {
   "cell_type": "code",
   "execution_count": 99,
   "id": "forty-oasis",
   "metadata": {},
   "outputs": [],
   "source": [
    "docs = X_train['proc_words']\n",
    "docs_test = X_test.proc_words\n",
    " \n",
    "dictionary = Dictionary(docs)\n",
    "dictionary_test = Dictionary(docs_test)\n",
    "\n",
    "corp = [dictionary.doc2bow(doc, allow_update = True) for doc in docs]\n",
    "corp_test = [dictionary.doc2bow(doc, allow_update = True) for doc in docs_test]"
   ]
  },
  {
   "cell_type": "markdown",
   "id": "adopted-berkeley",
   "metadata": {},
   "source": [
    "#### Note\n",
    "<br>\n",
    "By using max_df I can help decide word importance by elimating words that appear in 80% of documents as I have done below. Also, I can manage words that appear a minimum number of times, such as 6, per text. Max_features allows me to reduce the number of features (words) that are used to train the algorithm"
   ]
  },
  {
   "cell_type": "code",
   "execution_count": 100,
   "id": "deluxe-annual",
   "metadata": {},
   "outputs": [],
   "source": [
    "tfidf = TfidfVectorizer(max_df = 0.5, min_df = 10, max_features = 2500, preprocessor = ' '.join)\n",
    " \n",
    "tf = tfidf.fit_transform(docs)\n",
    "tf_test = tfidf.transform(docs_test)"
   ]
  },
  {
   "cell_type": "markdown",
   "id": "geological-kansas",
   "metadata": {},
   "source": [
    "## NonNegative Matrix Factorization\n",
    "\n",
    "Use sklearn.decomposition to access the NMF() method. The initialization of the method with 'nndsvd' was chose due to the sparse nature of the data. Since it is known how many categories exist, n_components was set to 2. Alpha helps control the regularization of the data."
   ]
  },
  {
   "cell_type": "code",
   "execution_count": 101,
   "id": "utility-confusion",
   "metadata": {},
   "outputs": [],
   "source": [
    "nmf = NMF(\n",
    "    n_components=2,\n",
    "    init='nndsvd',\n",
    "    alpha = 1,\n",
    "    random_state = 1029,\n",
    "    max_iter = 1000\n",
    ").fit(tf)"
   ]
  },
  {
   "cell_type": "code",
   "execution_count": 102,
   "id": "documented-insider",
   "metadata": {},
   "outputs": [],
   "source": [
    "H = nmf.transform(tf_test)\n",
    "W = nmf.components_"
   ]
  },
  {
   "cell_type": "code",
   "execution_count": 103,
   "id": "official-application",
   "metadata": {},
   "outputs": [],
   "source": [
    "pubs = X_test.index.tolist()\n",
    "\n",
    "topic = H.argmax(axis = 1)\n",
    "\n",
    "preds = pd.DataFrame({'articles': pubs, 'preds': topic})"
   ]
  },
  {
   "cell_type": "code",
   "execution_count": 104,
   "id": "downtown-treatment",
   "metadata": {},
   "outputs": [
    {
     "data": {
      "text/html": [
       "<div>\n",
       "<style scoped>\n",
       "    .dataframe tbody tr th:only-of-type {\n",
       "        vertical-align: middle;\n",
       "    }\n",
       "\n",
       "    .dataframe tbody tr th {\n",
       "        vertical-align: top;\n",
       "    }\n",
       "\n",
       "    .dataframe thead th {\n",
       "        text-align: right;\n",
       "    }\n",
       "</style>\n",
       "<table border=\"1\" class=\"dataframe\">\n",
       "  <thead>\n",
       "    <tr style=\"text-align: right;\">\n",
       "      <th></th>\n",
       "      <th>articles</th>\n",
       "      <th>preds</th>\n",
       "    </tr>\n",
       "  </thead>\n",
       "  <tbody>\n",
       "    <tr>\n",
       "      <th>0</th>\n",
       "      <td>9856</td>\n",
       "      <td>1</td>\n",
       "    </tr>\n",
       "    <tr>\n",
       "      <th>1</th>\n",
       "      <td>5061</td>\n",
       "      <td>1</td>\n",
       "    </tr>\n",
       "    <tr>\n",
       "      <th>2</th>\n",
       "      <td>14857</td>\n",
       "      <td>1</td>\n",
       "    </tr>\n",
       "    <tr>\n",
       "      <th>3</th>\n",
       "      <td>6840</td>\n",
       "      <td>1</td>\n",
       "    </tr>\n",
       "    <tr>\n",
       "      <th>4</th>\n",
       "      <td>567</td>\n",
       "      <td>1</td>\n",
       "    </tr>\n",
       "    <tr>\n",
       "      <th>...</th>\n",
       "      <td>...</td>\n",
       "      <td>...</td>\n",
       "    </tr>\n",
       "    <tr>\n",
       "      <th>5426</th>\n",
       "      <td>5485</td>\n",
       "      <td>1</td>\n",
       "    </tr>\n",
       "    <tr>\n",
       "      <th>5427</th>\n",
       "      <td>17175</td>\n",
       "      <td>1</td>\n",
       "    </tr>\n",
       "    <tr>\n",
       "      <th>5428</th>\n",
       "      <td>21143</td>\n",
       "      <td>1</td>\n",
       "    </tr>\n",
       "    <tr>\n",
       "      <th>5429</th>\n",
       "      <td>9018</td>\n",
       "      <td>1</td>\n",
       "    </tr>\n",
       "    <tr>\n",
       "      <th>5430</th>\n",
       "      <td>20858</td>\n",
       "      <td>1</td>\n",
       "    </tr>\n",
       "  </tbody>\n",
       "</table>\n",
       "<p>5431 rows × 2 columns</p>\n",
       "</div>"
      ],
      "text/plain": [
       "      articles  preds\n",
       "0         9856      1\n",
       "1         5061      1\n",
       "2        14857      1\n",
       "3         6840      1\n",
       "4          567      1\n",
       "...        ...    ...\n",
       "5426      5485      1\n",
       "5427     17175      1\n",
       "5428     21143      1\n",
       "5429      9018      1\n",
       "5430     20858      1\n",
       "\n",
       "[5431 rows x 2 columns]"
      ]
     },
     "execution_count": 104,
     "metadata": {},
     "output_type": "execute_result"
    }
   ],
   "source": [
    "preds"
   ]
  },
  {
   "cell_type": "markdown",
   "id": "incredible-detector",
   "metadata": {},
   "source": [
    "## Accuracy and RSME"
   ]
  },
  {
   "cell_type": "code",
   "execution_count": 105,
   "id": "grand-tract",
   "metadata": {},
   "outputs": [
    {
     "data": {
      "text/plain": [
       "0.7652366046768551"
      ]
     },
     "execution_count": 105,
     "metadata": {},
     "output_type": "execute_result"
    }
   ],
   "source": [
    "accuracy_score(y_test, preds.preds)"
   ]
  },
  {
   "cell_type": "markdown",
   "id": "caring-ferry",
   "metadata": {},
   "source": [
    "## Analysis of the Confusion Matrix\n",
    "<br>\n",
    "The precision, or True Negative Rate, was the best performing metric at 99%. If the model tells a reader that the tweet is not spam, then very reliable.\n",
    "<br>\n",
    "The worst performing metric is the Recall or True Positive Rate. The model often labels tweets as fake that are not. The accuracy score for the testing data is around 77%. The recommendation for the model given the analysis as a whole is that it is a great model to inform readers of certified real tweets."
   ]
  },
  {
   "cell_type": "code",
   "execution_count": 106,
   "id": "aggregate-language",
   "metadata": {},
   "outputs": [
    {
     "data": {
      "text/plain": [
       "array([[  79, 1233],\n",
       "       [  42, 4077]], dtype=int64)"
      ]
     },
     "execution_count": 106,
     "metadata": {},
     "output_type": "execute_result"
    }
   ],
   "source": [
    "confusion_matrix(y_test, preds.preds)"
   ]
  },
  {
   "cell_type": "code",
   "execution_count": null,
   "id": "cloudy-sandwich",
   "metadata": {},
   "outputs": [],
   "source": []
  }
 ],
 "metadata": {
  "kernelspec": {
   "display_name": "Python 3",
   "language": "python",
   "name": "python3"
  },
  "language_info": {
   "codemirror_mode": {
    "name": "ipython",
    "version": 3
   },
   "file_extension": ".py",
   "mimetype": "text/x-python",
   "name": "python",
   "nbconvert_exporter": "python",
   "pygments_lexer": "ipython3",
   "version": "3.8.0"
  }
 },
 "nbformat": 4,
 "nbformat_minor": 5
}
